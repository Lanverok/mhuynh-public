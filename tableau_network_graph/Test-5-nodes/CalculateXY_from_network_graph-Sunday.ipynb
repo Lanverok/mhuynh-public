{
 "cells": [
  {
   "cell_type": "code",
   "execution_count": 1,
   "metadata": {
    "collapsed": true
   },
   "outputs": [],
   "source": [
    "import networkx as nx\n",
    "import matplotlib.pyplot as plt\n",
    "import pandas as pd"
   ]
  },
  {
   "cell_type": "code",
   "execution_count": 2,
   "metadata": {
    "collapsed": true
   },
   "outputs": [],
   "source": [
    "G=nx.Graph()"
   ]
  },
  {
   "cell_type": "code",
   "execution_count": 4,
   "metadata": {},
   "outputs": [],
   "source": [
    "inputedges = pd.read_csv('./data/edges.csv')\n",
    "inputnodes = pd.read_csv('./data/nodes.csv')\n",
    "\n",
    "for i,r in inputnodes.iterrows():\n",
    "    G.add_node(r['ID'])\n",
    "    \n",
    "dfId = pd.DataFrame()\n",
    "IdCount = 1\n",
    "for i,r in inputedges.iterrows():\n",
    "    G.add_edge(r['Source'],r['Target'], weight=r['Weight'])\n",
    "    \n",
    "    #Generate the dataset for graphic nodes in Tableau\n",
    "    temp = pd.DataFrame(columns=[\"ID\", \"Node\", \"Source\",\"Target\", \"Weight\", \"Relationship\"])\n",
    "    s = pd.Series([0,0,0,0,0,0], index=[\"ID\", \"Node\", \"Source\",\"Target\", \"Weight\", \"Relationship\"])\n",
    "    temp = temp.append(s, ignore_index=True)\n",
    "    temp[\"Node\"] = r['Source']\n",
    "    temp[\"Source\"] = r['Source']\n",
    "    temp[\"Target\"] = r['Target']\n",
    "    temp[\"Weight\"] = weight=r['Weight']\n",
    "    temp[\"ID\"] = IdCount\n",
    "    temp[\"Relationship\"] = \"%s-->%s\"%(r['Source'],r['Target'])\n",
    "    \n",
    "    dfId = dfId.append(temp)\n",
    "    temp[\"Node\"] = r['Target']\n",
    "    dfId = dfId.append(temp)\n",
    "    IdCount = IdCount + 1"
   ]
  },
  {
   "cell_type": "code",
   "execution_count": 5,
   "metadata": {},
   "outputs": [
    {
     "data": {
      "text/html": [
       "<div>\n",
       "<style>\n",
       "    .dataframe thead tr:only-child th {\n",
       "        text-align: right;\n",
       "    }\n",
       "\n",
       "    .dataframe thead th {\n",
       "        text-align: left;\n",
       "    }\n",
       "\n",
       "    .dataframe tbody tr th {\n",
       "        vertical-align: top;\n",
       "    }\n",
       "</style>\n",
       "<table border=\"1\" class=\"dataframe\">\n",
       "  <thead>\n",
       "    <tr style=\"text-align: right;\">\n",
       "      <th></th>\n",
       "      <th>ID</th>\n",
       "      <th>Node</th>\n",
       "      <th>Source</th>\n",
       "      <th>Target</th>\n",
       "      <th>Weight</th>\n",
       "      <th>Relationship</th>\n",
       "    </tr>\n",
       "  </thead>\n",
       "  <tbody>\n",
       "    <tr>\n",
       "      <th>0</th>\n",
       "      <td>1</td>\n",
       "      <td>2</td>\n",
       "      <td>2</td>\n",
       "      <td>1</td>\n",
       "      <td>5</td>\n",
       "      <td>2--&gt;1</td>\n",
       "    </tr>\n",
       "    <tr>\n",
       "      <th>0</th>\n",
       "      <td>1</td>\n",
       "      <td>1</td>\n",
       "      <td>2</td>\n",
       "      <td>1</td>\n",
       "      <td>5</td>\n",
       "      <td>2--&gt;1</td>\n",
       "    </tr>\n",
       "    <tr>\n",
       "      <th>0</th>\n",
       "      <td>2</td>\n",
       "      <td>3</td>\n",
       "      <td>3</td>\n",
       "      <td>1</td>\n",
       "      <td>17</td>\n",
       "      <td>3--&gt;1</td>\n",
       "    </tr>\n",
       "    <tr>\n",
       "      <th>0</th>\n",
       "      <td>2</td>\n",
       "      <td>1</td>\n",
       "      <td>3</td>\n",
       "      <td>1</td>\n",
       "      <td>17</td>\n",
       "      <td>3--&gt;1</td>\n",
       "    </tr>\n",
       "    <tr>\n",
       "      <th>0</th>\n",
       "      <td>3</td>\n",
       "      <td>4</td>\n",
       "      <td>4</td>\n",
       "      <td>2</td>\n",
       "      <td>2</td>\n",
       "      <td>4--&gt;2</td>\n",
       "    </tr>\n",
       "    <tr>\n",
       "      <th>0</th>\n",
       "      <td>3</td>\n",
       "      <td>2</td>\n",
       "      <td>4</td>\n",
       "      <td>2</td>\n",
       "      <td>2</td>\n",
       "      <td>4--&gt;2</td>\n",
       "    </tr>\n",
       "    <tr>\n",
       "      <th>0</th>\n",
       "      <td>4</td>\n",
       "      <td>5</td>\n",
       "      <td>5</td>\n",
       "      <td>1</td>\n",
       "      <td>78</td>\n",
       "      <td>5--&gt;1</td>\n",
       "    </tr>\n",
       "    <tr>\n",
       "      <th>0</th>\n",
       "      <td>4</td>\n",
       "      <td>1</td>\n",
       "      <td>5</td>\n",
       "      <td>1</td>\n",
       "      <td>78</td>\n",
       "      <td>5--&gt;1</td>\n",
       "    </tr>\n",
       "  </tbody>\n",
       "</table>\n",
       "</div>"
      ],
      "text/plain": [
       "   ID  Node  Source  Target  Weight Relationship\n",
       "0   1     2       2       1       5        2-->1\n",
       "0   1     1       2       1       5        2-->1\n",
       "0   2     3       3       1      17        3-->1\n",
       "0   2     1       3       1      17        3-->1\n",
       "0   3     4       4       2       2        4-->2\n",
       "0   3     2       4       2       2        4-->2\n",
       "0   4     5       5       1      78        5-->1\n",
       "0   4     1       5       1      78        5-->1"
      ]
     },
     "execution_count": 5,
     "metadata": {},
     "output_type": "execute_result"
    }
   ],
   "source": [
    "dfId"
   ]
  },
  {
   "cell_type": "code",
   "execution_count": 6,
   "metadata": {
    "collapsed": true
   },
   "outputs": [],
   "source": [
    "pos=nx.spring_layout(G, k=0.04, iterations=10, scale=100)\n",
    "#pos=nx.shell_layout(G)\n",
    "#pos=nx.spectral_layout(G)\n",
    "#pos=nx.random_layout(G)"
   ]
  },
  {
   "cell_type": "code",
   "execution_count": 7,
   "metadata": {
    "collapsed": true
   },
   "outputs": [],
   "source": [
    "nx.set_node_attributes(G,'pos',pos)"
   ]
  },
  {
   "cell_type": "code",
   "execution_count": 8,
   "metadata": {
    "collapsed": true
   },
   "outputs": [],
   "source": [
    "labeldict = {}\n",
    "for i in list(G.nodes()):\n",
    "    istr = str(i)\n",
    "    labeldict[i]=istr"
   ]
  },
  {
   "cell_type": "code",
   "execution_count": 9,
   "metadata": {
    "collapsed": true
   },
   "outputs": [],
   "source": [
    "# pos[-2] = [100.0, 0.0]\n",
    "# pos[-1] = [0.0, 100.0]"
   ]
  },
  {
   "cell_type": "code",
   "execution_count": 10,
   "metadata": {},
   "outputs": [
    {
     "data": {
      "image/png": "[encoded data removed]",
      "text/plain": [
       "<matplotlib.figure.Figure at 0x15092dc0d0>"
      ]
     },
     "metadata": {},
     "output_type": "display_data"
    }
   ],
   "source": [
    "#nx.draw(G, pos=pos)\n",
    "nx.draw_networkx(G,pos, labels=labeldict)\n",
    "plt.savefig(\"network_graph.png\")\n",
    "plt.show()"
   ]
  },
  {
   "cell_type": "code",
   "execution_count": 11,
   "metadata": {},
   "outputs": [
    {
     "data": {
      "text/plain": [
       "{1: array([ 100.        ,   35.56511182]),\n",
       " 2: array([ 13.14385225,   0.        ]),\n",
       " 3: array([ 59.50845402,  66.82523605]),\n",
       " 4: array([ 59.69736624,   6.50378596]),\n",
       " 5: array([  0.        ,  80.13352529])}"
      ]
     },
     "execution_count": 11,
     "metadata": {},
     "output_type": "execute_result"
    }
   ],
   "source": [
    "pos"
   ]
  },
  {
   "cell_type": "code",
   "execution_count": 12,
   "metadata": {
    "collapsed": true
   },
   "outputs": [],
   "source": [
    "positions = pd.DataFrame(pos).transpose()\n",
    "positions.columns = ['X','Y']"
   ]
  },
  {
   "cell_type": "code",
   "execution_count": 13,
   "metadata": {
    "collapsed": true
   },
   "outputs": [],
   "source": [
    "positions[\"CycleY\"] = positions[\"Y\"]"
   ]
  },
  {
   "cell_type": "code",
   "execution_count": 14,
   "metadata": {
    "collapsed": true
   },
   "outputs": [],
   "source": [
    "positions[\"Node\"] = positions.index"
   ]
  },
  {
   "cell_type": "code",
   "execution_count": 15,
   "metadata": {},
   "outputs": [
    {
     "data": {
      "text/html": [
       "<div>\n",
       "<style>\n",
       "    .dataframe thead tr:only-child th {\n",
       "        text-align: right;\n",
       "    }\n",
       "\n",
       "    .dataframe thead th {\n",
       "        text-align: left;\n",
       "    }\n",
       "\n",
       "    .dataframe tbody tr th {\n",
       "        vertical-align: top;\n",
       "    }\n",
       "</style>\n",
       "<table border=\"1\" class=\"dataframe\">\n",
       "  <thead>\n",
       "    <tr style=\"text-align: right;\">\n",
       "      <th></th>\n",
       "      <th>X</th>\n",
       "      <th>Y</th>\n",
       "      <th>CycleY</th>\n",
       "      <th>Node</th>\n",
       "    </tr>\n",
       "  </thead>\n",
       "  <tbody>\n",
       "    <tr>\n",
       "      <th>1</th>\n",
       "      <td>100.000000</td>\n",
       "      <td>35.565112</td>\n",
       "      <td>35.565112</td>\n",
       "      <td>1</td>\n",
       "    </tr>\n",
       "    <tr>\n",
       "      <th>2</th>\n",
       "      <td>13.143852</td>\n",
       "      <td>0.000000</td>\n",
       "      <td>0.000000</td>\n",
       "      <td>2</td>\n",
       "    </tr>\n",
       "    <tr>\n",
       "      <th>3</th>\n",
       "      <td>59.508454</td>\n",
       "      <td>66.825236</td>\n",
       "      <td>66.825236</td>\n",
       "      <td>3</td>\n",
       "    </tr>\n",
       "    <tr>\n",
       "      <th>4</th>\n",
       "      <td>59.697366</td>\n",
       "      <td>6.503786</td>\n",
       "      <td>6.503786</td>\n",
       "      <td>4</td>\n",
       "    </tr>\n",
       "    <tr>\n",
       "      <th>5</th>\n",
       "      <td>0.000000</td>\n",
       "      <td>80.133525</td>\n",
       "      <td>80.133525</td>\n",
       "      <td>5</td>\n",
       "    </tr>\n",
       "  </tbody>\n",
       "</table>\n",
       "</div>"
      ],
      "text/plain": [
       "            X          Y     CycleY  Node\n",
       "1  100.000000  35.565112  35.565112     1\n",
       "2   13.143852   0.000000   0.000000     2\n",
       "3   59.508454  66.825236  66.825236     3\n",
       "4   59.697366   6.503786   6.503786     4\n",
       "5    0.000000  80.133525  80.133525     5"
      ]
     },
     "execution_count": 15,
     "metadata": {},
     "output_type": "execute_result"
    }
   ],
   "source": [
    "positions"
   ]
  },
  {
   "cell_type": "code",
   "execution_count": 16,
   "metadata": {},
   "outputs": [],
   "source": [
    "result = pd.merge(dfId,positions, on='Node', how='left')"
   ]
  },
  {
   "cell_type": "code",
   "execution_count": 17,
   "metadata": {},
   "outputs": [
    {
     "data": {
      "text/html": [
       "<div>\n",
       "<style>\n",
       "    .dataframe thead tr:only-child th {\n",
       "        text-align: right;\n",
       "    }\n",
       "\n",
       "    .dataframe thead th {\n",
       "        text-align: left;\n",
       "    }\n",
       "\n",
       "    .dataframe tbody tr th {\n",
       "        vertical-align: top;\n",
       "    }\n",
       "</style>\n",
       "<table border=\"1\" class=\"dataframe\">\n",
       "  <thead>\n",
       "    <tr style=\"text-align: right;\">\n",
       "      <th></th>\n",
       "      <th>ID</th>\n",
       "      <th>Node</th>\n",
       "      <th>Source</th>\n",
       "      <th>Target</th>\n",
       "      <th>Weight</th>\n",
       "      <th>Relationship</th>\n",
       "      <th>X</th>\n",
       "      <th>Y</th>\n",
       "      <th>CycleY</th>\n",
       "    </tr>\n",
       "  </thead>\n",
       "  <tbody>\n",
       "    <tr>\n",
       "      <th>0</th>\n",
       "      <td>1</td>\n",
       "      <td>2</td>\n",
       "      <td>2</td>\n",
       "      <td>1</td>\n",
       "      <td>5</td>\n",
       "      <td>2--&gt;1</td>\n",
       "      <td>13.143852</td>\n",
       "      <td>0.000000</td>\n",
       "      <td>0.000000</td>\n",
       "    </tr>\n",
       "    <tr>\n",
       "      <th>1</th>\n",
       "      <td>1</td>\n",
       "      <td>1</td>\n",
       "      <td>2</td>\n",
       "      <td>1</td>\n",
       "      <td>5</td>\n",
       "      <td>2--&gt;1</td>\n",
       "      <td>100.000000</td>\n",
       "      <td>35.565112</td>\n",
       "      <td>35.565112</td>\n",
       "    </tr>\n",
       "    <tr>\n",
       "      <th>2</th>\n",
       "      <td>2</td>\n",
       "      <td>3</td>\n",
       "      <td>3</td>\n",
       "      <td>1</td>\n",
       "      <td>17</td>\n",
       "      <td>3--&gt;1</td>\n",
       "      <td>59.508454</td>\n",
       "      <td>66.825236</td>\n",
       "      <td>66.825236</td>\n",
       "    </tr>\n",
       "    <tr>\n",
       "      <th>3</th>\n",
       "      <td>2</td>\n",
       "      <td>1</td>\n",
       "      <td>3</td>\n",
       "      <td>1</td>\n",
       "      <td>17</td>\n",
       "      <td>3--&gt;1</td>\n",
       "      <td>100.000000</td>\n",
       "      <td>35.565112</td>\n",
       "      <td>35.565112</td>\n",
       "    </tr>\n",
       "    <tr>\n",
       "      <th>4</th>\n",
       "      <td>3</td>\n",
       "      <td>4</td>\n",
       "      <td>4</td>\n",
       "      <td>2</td>\n",
       "      <td>2</td>\n",
       "      <td>4--&gt;2</td>\n",
       "      <td>59.697366</td>\n",
       "      <td>6.503786</td>\n",
       "      <td>6.503786</td>\n",
       "    </tr>\n",
       "    <tr>\n",
       "      <th>5</th>\n",
       "      <td>3</td>\n",
       "      <td>2</td>\n",
       "      <td>4</td>\n",
       "      <td>2</td>\n",
       "      <td>2</td>\n",
       "      <td>4--&gt;2</td>\n",
       "      <td>13.143852</td>\n",
       "      <td>0.000000</td>\n",
       "      <td>0.000000</td>\n",
       "    </tr>\n",
       "    <tr>\n",
       "      <th>6</th>\n",
       "      <td>4</td>\n",
       "      <td>5</td>\n",
       "      <td>5</td>\n",
       "      <td>1</td>\n",
       "      <td>78</td>\n",
       "      <td>5--&gt;1</td>\n",
       "      <td>0.000000</td>\n",
       "      <td>80.133525</td>\n",
       "      <td>80.133525</td>\n",
       "    </tr>\n",
       "    <tr>\n",
       "      <th>7</th>\n",
       "      <td>4</td>\n",
       "      <td>1</td>\n",
       "      <td>5</td>\n",
       "      <td>1</td>\n",
       "      <td>78</td>\n",
       "      <td>5--&gt;1</td>\n",
       "      <td>100.000000</td>\n",
       "      <td>35.565112</td>\n",
       "      <td>35.565112</td>\n",
       "    </tr>\n",
       "  </tbody>\n",
       "</table>\n",
       "</div>"
      ],
      "text/plain": [
       "   ID  Node  Source  Target  Weight Relationship           X          Y  \\\n",
       "0   1     2       2       1       5        2-->1   13.143852   0.000000   \n",
       "1   1     1       2       1       5        2-->1  100.000000  35.565112   \n",
       "2   2     3       3       1      17        3-->1   59.508454  66.825236   \n",
       "3   2     1       3       1      17        3-->1  100.000000  35.565112   \n",
       "4   3     4       4       2       2        4-->2   59.697366   6.503786   \n",
       "5   3     2       4       2       2        4-->2   13.143852   0.000000   \n",
       "6   4     5       5       1      78        5-->1    0.000000  80.133525   \n",
       "7   4     1       5       1      78        5-->1  100.000000  35.565112   \n",
       "\n",
       "      CycleY  \n",
       "0   0.000000  \n",
       "1  35.565112  \n",
       "2  66.825236  \n",
       "3  35.565112  \n",
       "4   6.503786  \n",
       "5   0.000000  \n",
       "6  80.133525  \n",
       "7  35.565112  "
      ]
     },
     "execution_count": 17,
     "metadata": {},
     "output_type": "execute_result"
    }
   ],
   "source": [
    "result"
   ]
  },
  {
   "cell_type": "code",
   "execution_count": 18,
   "metadata": {
    "collapsed": true
   },
   "outputs": [],
   "source": [
    "result.to_csv('./data/nodepositions.csv', index=False)"
   ]
  },
  {
   "cell_type": "code",
   "execution_count": null,
   "metadata": {
    "collapsed": true
   },
   "outputs": [],
   "source": []
  },
  {
   "cell_type": "code",
   "execution_count": null,
   "metadata": {
    "collapsed": true
   },
   "outputs": [],
   "source": []
  }
 ],
 "metadata": {
  "kernelspec": {
   "display_name": "Python 2",
   "language": "python",
   "name": "python2"
  },
  "language_info": {
   "codemirror_mode": {
    "name": "ipython",
    "version": 2
   },
   "file_extension": ".py",
   "mimetype": "text/x-python",
   "name": "python",
   "nbconvert_exporter": "python",
   "pygments_lexer": "ipython2",
   "version": "2.7.13"
  }
 },
 "nbformat": 4,
 "nbformat_minor": 2
}
