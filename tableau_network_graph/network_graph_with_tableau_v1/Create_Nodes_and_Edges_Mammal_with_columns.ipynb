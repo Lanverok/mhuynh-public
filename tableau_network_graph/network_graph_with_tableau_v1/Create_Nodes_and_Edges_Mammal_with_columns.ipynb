{
 "cells": [
  {
   "cell_type": "code",
   "execution_count": 1,
   "metadata": {},
   "outputs": [],
   "source": [
    "import pandas as pd\n",
    "import numpy as np\n",
    "from random import randint"
   ]
  },
  {
   "cell_type": "code",
   "execution_count": 2,
   "metadata": {
    "collapsed": true
   },
   "outputs": [],
   "source": [
    "df = pd.read_csv(\"./data/biodiversity_LatLong_52_short.csv\")\n",
    "#df.to_csv(\"./data/biodiversity_LatLong_52_short.csv\", index=False)"
   ]
  },
  {
   "cell_type": "code",
   "execution_count": 3,
   "metadata": {},
   "outputs": [
    {
     "data": {
      "text/html": [
       "<div>\n",
       "<style>\n",
       "    .dataframe thead tr:only-child th {\n",
       "        text-align: right;\n",
       "    }\n",
       "\n",
       "    .dataframe thead th {\n",
       "        text-align: left;\n",
       "    }\n",
       "\n",
       "    .dataframe tbody tr th {\n",
       "        vertical-align: top;\n",
       "    }\n",
       "</style>\n",
       "<table border=\"1\" class=\"dataframe\">\n",
       "  <thead>\n",
       "    <tr style=\"text-align: right;\">\n",
       "      <th></th>\n",
       "      <th>count</th>\n",
       "      <th>mean</th>\n",
       "      <th>std</th>\n",
       "      <th>min</th>\n",
       "      <th>25%</th>\n",
       "      <th>50%</th>\n",
       "      <th>75%</th>\n",
       "      <th>max</th>\n",
       "    </tr>\n",
       "  </thead>\n",
       "  <tbody>\n",
       "    <tr>\n",
       "      <th>Acres</th>\n",
       "      <td>101151.0</td>\n",
       "      <td>960684.969303</td>\n",
       "      <td>1.534094e+06</td>\n",
       "      <td>5550.00</td>\n",
       "      <td>91440.00</td>\n",
       "      <td>309995.00</td>\n",
       "      <td>922651.0</td>\n",
       "      <td>8323148.00</td>\n",
       "    </tr>\n",
       "    <tr>\n",
       "      <th>Latitude</th>\n",
       "      <td>101151.0</td>\n",
       "      <td>39.945690</td>\n",
       "      <td>1.003982e+01</td>\n",
       "      <td>19.38</td>\n",
       "      <td>35.68</td>\n",
       "      <td>38.53</td>\n",
       "      <td>44.6</td>\n",
       "      <td>67.55</td>\n",
       "    </tr>\n",
       "    <tr>\n",
       "      <th>Longitude</th>\n",
       "      <td>101151.0</td>\n",
       "      <td>-112.262570</td>\n",
       "      <td>2.204271e+01</td>\n",
       "      <td>-159.28</td>\n",
       "      <td>-121.51</td>\n",
       "      <td>-112.14</td>\n",
       "      <td>-102.5</td>\n",
       "      <td>-68.21</td>\n",
       "    </tr>\n",
       "  </tbody>\n",
       "</table>\n",
       "</div>"
      ],
      "text/plain": [
       "              count           mean           std      min       25%  \\\n",
       "Acres      101151.0  960684.969303  1.534094e+06  5550.00  91440.00   \n",
       "Latitude   101151.0      39.945690  1.003982e+01    19.38     35.68   \n",
       "Longitude  101151.0    -112.262570  2.204271e+01  -159.28   -121.51   \n",
       "\n",
       "                 50%       75%         max  \n",
       "Acres      309995.00  922651.0  8323148.00  \n",
       "Latitude       38.53      44.6       67.55  \n",
       "Longitude    -112.14    -102.5      -68.21  "
      ]
     },
     "execution_count": 3,
     "metadata": {},
     "output_type": "execute_result"
    }
   ],
   "source": [
    "df.describe().T"
   ]
  },
  {
   "cell_type": "code",
   "execution_count": 4,
   "metadata": {},
   "outputs": [
    {
     "data": {
      "text/html": [
       "<div>\n",
       "<style>\n",
       "    .dataframe thead tr:only-child th {\n",
       "        text-align: right;\n",
       "    }\n",
       "\n",
       "    .dataframe thead th {\n",
       "        text-align: left;\n",
       "    }\n",
       "\n",
       "    .dataframe tbody tr th {\n",
       "        vertical-align: top;\n",
       "    }\n",
       "</style>\n",
       "<table border=\"1\" class=\"dataframe\">\n",
       "  <thead>\n",
       "    <tr style=\"text-align: right;\">\n",
       "      <th></th>\n",
       "      <th>Category</th>\n",
       "      <th>Order</th>\n",
       "      <th>Family</th>\n",
       "      <th>Common Names</th>\n",
       "      <th>Occurrence</th>\n",
       "      <th>Nativeness</th>\n",
       "      <th>Abundance</th>\n",
       "      <th>Park Name</th>\n",
       "      <th>GRank</th>\n",
       "      <th>SRank</th>\n",
       "      <th>State</th>\n",
       "      <th>Acres</th>\n",
       "      <th>Latitude</th>\n",
       "      <th>Longitude</th>\n",
       "    </tr>\n",
       "  </thead>\n",
       "  <tbody>\n",
       "    <tr>\n",
       "      <th>0</th>\n",
       "      <td>Mammal</td>\n",
       "      <td>Artiodactyla</td>\n",
       "      <td>Antilocapridae</td>\n",
       "      <td>Pronghorn</td>\n",
       "      <td>Unconfirmed</td>\n",
       "      <td>Native</td>\n",
       "      <td>Unknown</td>\n",
       "      <td>Black Canyon of the Gunnison National Park</td>\n",
       "      <td>G5</td>\n",
       "      <td>Secure</td>\n",
       "      <td>CO</td>\n",
       "      <td>32950</td>\n",
       "      <td>38.57</td>\n",
       "      <td>-107.72</td>\n",
       "    </tr>\n",
       "  </tbody>\n",
       "</table>\n",
       "</div>"
      ],
      "text/plain": [
       "  Category         Order          Family Common Names   Occurrence Nativeness  \\\n",
       "0   Mammal  Artiodactyla  Antilocapridae    Pronghorn  Unconfirmed     Native   \n",
       "\n",
       "  Abundance                                   Park Name GRank   SRank State  \\\n",
       "0   Unknown  Black Canyon of the Gunnison National Park    G5  Secure    CO   \n",
       "\n",
       "   Acres  Latitude  Longitude  \n",
       "0  32950     38.57    -107.72  "
      ]
     },
     "execution_count": 4,
     "metadata": {},
     "output_type": "execute_result"
    }
   ],
   "source": [
    "df.head(1)"
   ]
  },
  {
   "cell_type": "code",
   "execution_count": 5,
   "metadata": {},
   "outputs": [
    {
     "data": {
      "text/plain": [
       "array(['Mammal', 'Bird', 'Reptile', 'Amphibian', 'Fish', 'Vascular Plant',\n",
       "       'Slug/Snail', 'Insect', 'Other Non-vertebrates', 'Fungi',\n",
       "       'Crab/Lobster/Shrimp', 'Spider/Scorpion', 'Non-vascular Plant',\n",
       "       'Chromista', 'Bacteria', 'Protozoa', 'Archaea'], dtype=object)"
      ]
     },
     "execution_count": 5,
     "metadata": {},
     "output_type": "execute_result"
    }
   ],
   "source": [
    "df[\"Category\"].unique()"
   ]
  },
  {
   "cell_type": "code",
   "execution_count": 6,
   "metadata": {
    "collapsed": true
   },
   "outputs": [],
   "source": [
    "categorydf = df[(df[\"Category\"] == \"Mammal\")] #|(df[\"Category\"] == \"Fish\") | (df[\"Category\"] == \"Bird\")]"
   ]
  },
  {
   "cell_type": "code",
   "execution_count": 7,
   "metadata": {},
   "outputs": [
    {
     "data": {
      "text/html": [
       "<div>\n",
       "<style>\n",
       "    .dataframe thead tr:only-child th {\n",
       "        text-align: right;\n",
       "    }\n",
       "\n",
       "    .dataframe thead th {\n",
       "        text-align: left;\n",
       "    }\n",
       "\n",
       "    .dataframe tbody tr th {\n",
       "        vertical-align: top;\n",
       "    }\n",
       "</style>\n",
       "<table border=\"1\" class=\"dataframe\">\n",
       "  <thead>\n",
       "    <tr style=\"text-align: right;\">\n",
       "      <th></th>\n",
       "      <th>Category</th>\n",
       "      <th>Order</th>\n",
       "      <th>Family</th>\n",
       "      <th>Common Names</th>\n",
       "      <th>Occurrence</th>\n",
       "      <th>Nativeness</th>\n",
       "      <th>Abundance</th>\n",
       "      <th>Park Name</th>\n",
       "      <th>GRank</th>\n",
       "      <th>SRank</th>\n",
       "      <th>State</th>\n",
       "      <th>Acres</th>\n",
       "      <th>Latitude</th>\n",
       "      <th>Longitude</th>\n",
       "    </tr>\n",
       "  </thead>\n",
       "  <tbody>\n",
       "    <tr>\n",
       "      <th>0</th>\n",
       "      <td>Mammal</td>\n",
       "      <td>Artiodactyla</td>\n",
       "      <td>Antilocapridae</td>\n",
       "      <td>Pronghorn</td>\n",
       "      <td>Unconfirmed</td>\n",
       "      <td>Native</td>\n",
       "      <td>Unknown</td>\n",
       "      <td>Black Canyon of the Gunnison National Park</td>\n",
       "      <td>G5</td>\n",
       "      <td>Secure</td>\n",
       "      <td>CO</td>\n",
       "      <td>32950</td>\n",
       "      <td>38.57</td>\n",
       "      <td>-107.72</td>\n",
       "    </tr>\n",
       "    <tr>\n",
       "      <th>1</th>\n",
       "      <td>Mammal</td>\n",
       "      <td>Artiodactyla</td>\n",
       "      <td>Bovidae</td>\n",
       "      <td>Bighorn Sheep</td>\n",
       "      <td>Present</td>\n",
       "      <td>Native</td>\n",
       "      <td>Uncommon</td>\n",
       "      <td>Black Canyon of the Gunnison National Park</td>\n",
       "      <td>G4</td>\n",
       "      <td>Secure</td>\n",
       "      <td>CO</td>\n",
       "      <td>32950</td>\n",
       "      <td>38.57</td>\n",
       "      <td>-107.72</td>\n",
       "    </tr>\n",
       "    <tr>\n",
       "      <th>2</th>\n",
       "      <td>Mammal</td>\n",
       "      <td>Artiodactyla</td>\n",
       "      <td>Cervidae</td>\n",
       "      <td>Elk</td>\n",
       "      <td>Present</td>\n",
       "      <td>Native</td>\n",
       "      <td>Unknown</td>\n",
       "      <td>Black Canyon of the Gunnison National Park</td>\n",
       "      <td>Unknown</td>\n",
       "      <td>Unranked</td>\n",
       "      <td>CO</td>\n",
       "      <td>32950</td>\n",
       "      <td>38.57</td>\n",
       "      <td>-107.72</td>\n",
       "    </tr>\n",
       "    <tr>\n",
       "      <th>3</th>\n",
       "      <td>Mammal</td>\n",
       "      <td>Artiodactyla</td>\n",
       "      <td>Cervidae</td>\n",
       "      <td>Mule Deer</td>\n",
       "      <td>Present</td>\n",
       "      <td>Native</td>\n",
       "      <td>Uncommon</td>\n",
       "      <td>Black Canyon of the Gunnison National Park</td>\n",
       "      <td>G5</td>\n",
       "      <td>Secure</td>\n",
       "      <td>CO</td>\n",
       "      <td>32950</td>\n",
       "      <td>38.57</td>\n",
       "      <td>-107.72</td>\n",
       "    </tr>\n",
       "    <tr>\n",
       "      <th>4</th>\n",
       "      <td>Mammal</td>\n",
       "      <td>Carnivora</td>\n",
       "      <td>Canidae</td>\n",
       "      <td>Coyote</td>\n",
       "      <td>Present</td>\n",
       "      <td>Native</td>\n",
       "      <td>Uncommon</td>\n",
       "      <td>Black Canyon of the Gunnison National Park</td>\n",
       "      <td>G5</td>\n",
       "      <td>Secure</td>\n",
       "      <td>CO</td>\n",
       "      <td>32950</td>\n",
       "      <td>38.57</td>\n",
       "      <td>-107.72</td>\n",
       "    </tr>\n",
       "  </tbody>\n",
       "</table>\n",
       "</div>"
      ],
      "text/plain": [
       "  Category         Order          Family   Common Names   Occurrence  \\\n",
       "0   Mammal  Artiodactyla  Antilocapridae      Pronghorn  Unconfirmed   \n",
       "1   Mammal  Artiodactyla         Bovidae  Bighorn Sheep      Present   \n",
       "2   Mammal  Artiodactyla        Cervidae            Elk      Present   \n",
       "3   Mammal  Artiodactyla        Cervidae      Mule Deer      Present   \n",
       "4   Mammal     Carnivora         Canidae         Coyote      Present   \n",
       "\n",
       "  Nativeness Abundance                                   Park Name    GRank  \\\n",
       "0     Native   Unknown  Black Canyon of the Gunnison National Park       G5   \n",
       "1     Native  Uncommon  Black Canyon of the Gunnison National Park       G4   \n",
       "2     Native   Unknown  Black Canyon of the Gunnison National Park  Unknown   \n",
       "3     Native  Uncommon  Black Canyon of the Gunnison National Park       G5   \n",
       "4     Native  Uncommon  Black Canyon of the Gunnison National Park       G5   \n",
       "\n",
       "      SRank State  Acres  Latitude  Longitude  \n",
       "0    Secure    CO  32950     38.57    -107.72  \n",
       "1    Secure    CO  32950     38.57    -107.72  \n",
       "2  Unranked    CO  32950     38.57    -107.72  \n",
       "3    Secure    CO  32950     38.57    -107.72  \n",
       "4    Secure    CO  32950     38.57    -107.72  "
      ]
     },
     "execution_count": 7,
     "metadata": {},
     "output_type": "execute_result"
    }
   ],
   "source": [
    "categorydf.head()"
   ]
  },
  {
   "cell_type": "code",
   "execution_count": 8,
   "metadata": {},
   "outputs": [
    {
     "data": {
      "text/html": [
       "<div>\n",
       "<style>\n",
       "    .dataframe thead tr:only-child th {\n",
       "        text-align: right;\n",
       "    }\n",
       "\n",
       "    .dataframe thead th {\n",
       "        text-align: left;\n",
       "    }\n",
       "\n",
       "    .dataframe tbody tr th {\n",
       "        vertical-align: top;\n",
       "    }\n",
       "</style>\n",
       "<table border=\"1\" class=\"dataframe\">\n",
       "  <thead>\n",
       "    <tr style=\"text-align: right;\">\n",
       "      <th></th>\n",
       "      <th>count</th>\n",
       "      <th>mean</th>\n",
       "      <th>std</th>\n",
       "      <th>min</th>\n",
       "      <th>25%</th>\n",
       "      <th>50%</th>\n",
       "      <th>75%</th>\n",
       "      <th>max</th>\n",
       "    </tr>\n",
       "  </thead>\n",
       "  <tbody>\n",
       "    <tr>\n",
       "      <th>Acres</th>\n",
       "      <td>3392.0</td>\n",
       "      <td>948524.574292</td>\n",
       "      <td>1.564913e+06</td>\n",
       "      <td>5550.00</td>\n",
       "      <td>77180.00</td>\n",
       "      <td>241904.00</td>\n",
       "      <td>922651.00</td>\n",
       "      <td>8323148.00</td>\n",
       "    </tr>\n",
       "    <tr>\n",
       "      <th>Latitude</th>\n",
       "      <td>3392.0</td>\n",
       "      <td>40.952176</td>\n",
       "      <td>8.665083e+00</td>\n",
       "      <td>19.38</td>\n",
       "      <td>36.24</td>\n",
       "      <td>38.57</td>\n",
       "      <td>44.35</td>\n",
       "      <td>67.55</td>\n",
       "    </tr>\n",
       "    <tr>\n",
       "      <th>Longitude</th>\n",
       "      <td>3392.0</td>\n",
       "      <td>-112.457736</td>\n",
       "      <td>1.804496e+01</td>\n",
       "      <td>-159.28</td>\n",
       "      <td>-121.20</td>\n",
       "      <td>-112.14</td>\n",
       "      <td>-104.44</td>\n",
       "      <td>-68.21</td>\n",
       "    </tr>\n",
       "  </tbody>\n",
       "</table>\n",
       "</div>"
      ],
      "text/plain": [
       "            count           mean           std      min       25%        50%  \\\n",
       "Acres      3392.0  948524.574292  1.564913e+06  5550.00  77180.00  241904.00   \n",
       "Latitude   3392.0      40.952176  8.665083e+00    19.38     36.24      38.57   \n",
       "Longitude  3392.0    -112.457736  1.804496e+01  -159.28   -121.20    -112.14   \n",
       "\n",
       "                 75%         max  \n",
       "Acres      922651.00  8323148.00  \n",
       "Latitude       44.35       67.55  \n",
       "Longitude    -104.44      -68.21  "
      ]
     },
     "execution_count": 8,
     "metadata": {},
     "output_type": "execute_result"
    }
   ],
   "source": [
    "categorydf.describe().T"
   ]
  },
  {
   "cell_type": "markdown",
   "metadata": {},
   "source": [
    "### Get the top N orders"
   ]
  },
  {
   "cell_type": "code",
   "execution_count": 9,
   "metadata": {},
   "outputs": [
    {
     "name": "stdout",
     "output_type": "stream",
     "text": [
      "num_random1 =  3\n"
     ]
    }
   ],
   "source": [
    "num_random1 = randint(2,4)\n",
    "print \"num_random1 = \", num_random1"
   ]
  },
  {
   "cell_type": "code",
   "execution_count": 10,
   "metadata": {
    "collapsed": true
   },
   "outputs": [],
   "source": [
    "grby1 = categorydf.groupby([\"Category\", \"Order\"]).head(num_random1)"
   ]
  },
  {
   "cell_type": "code",
   "execution_count": 11,
   "metadata": {},
   "outputs": [
    {
     "data": {
      "text/html": [
       "<div>\n",
       "<style>\n",
       "    .dataframe thead tr:only-child th {\n",
       "        text-align: right;\n",
       "    }\n",
       "\n",
       "    .dataframe thead th {\n",
       "        text-align: left;\n",
       "    }\n",
       "\n",
       "    .dataframe tbody tr th {\n",
       "        vertical-align: top;\n",
       "    }\n",
       "</style>\n",
       "<table border=\"1\" class=\"dataframe\">\n",
       "  <thead>\n",
       "    <tr style=\"text-align: right;\">\n",
       "      <th></th>\n",
       "      <th>count</th>\n",
       "      <th>mean</th>\n",
       "      <th>std</th>\n",
       "      <th>min</th>\n",
       "      <th>25%</th>\n",
       "      <th>50%</th>\n",
       "      <th>75%</th>\n",
       "      <th>max</th>\n",
       "    </tr>\n",
       "  </thead>\n",
       "  <tbody>\n",
       "    <tr>\n",
       "      <th>Acres</th>\n",
       "      <td>39.0</td>\n",
       "      <td>464514.333333</td>\n",
       "      <td>1.077129e+06</td>\n",
       "      <td>5550.00</td>\n",
       "      <td>32950.00</td>\n",
       "      <td>32950.00</td>\n",
       "      <td>360267.500</td>\n",
       "      <td>4740912.00</td>\n",
       "    </tr>\n",
       "    <tr>\n",
       "      <th>Latitude</th>\n",
       "      <td>39.0</td>\n",
       "      <td>37.873077</td>\n",
       "      <td>8.144692e+00</td>\n",
       "      <td>20.72</td>\n",
       "      <td>35.96</td>\n",
       "      <td>38.57</td>\n",
       "      <td>38.570</td>\n",
       "      <td>59.92</td>\n",
       "    </tr>\n",
       "    <tr>\n",
       "      <th>Longitude</th>\n",
       "      <td>39.0</td>\n",
       "      <td>-108.853590</td>\n",
       "      <td>1.893338e+01</td>\n",
       "      <td>-156.17</td>\n",
       "      <td>-115.90</td>\n",
       "      <td>-107.72</td>\n",
       "      <td>-106.615</td>\n",
       "      <td>-78.35</td>\n",
       "    </tr>\n",
       "  </tbody>\n",
       "</table>\n",
       "</div>"
      ],
      "text/plain": [
       "           count           mean           std      min       25%       50%  \\\n",
       "Acres       39.0  464514.333333  1.077129e+06  5550.00  32950.00  32950.00   \n",
       "Latitude    39.0      37.873077  8.144692e+00    20.72     35.96     38.57   \n",
       "Longitude   39.0    -108.853590  1.893338e+01  -156.17   -115.90   -107.72   \n",
       "\n",
       "                  75%         max  \n",
       "Acres      360267.500  4740912.00  \n",
       "Latitude       38.570       59.92  \n",
       "Longitude    -106.615      -78.35  "
      ]
     },
     "execution_count": 11,
     "metadata": {},
     "output_type": "execute_result"
    }
   ],
   "source": [
    "grby1.describe().T"
   ]
  },
  {
   "cell_type": "markdown",
   "metadata": {},
   "source": [
    "### Get the top N families"
   ]
  },
  {
   "cell_type": "code",
   "execution_count": 12,
   "metadata": {},
   "outputs": [
    {
     "name": "stdout",
     "output_type": "stream",
     "text": [
      "num_random2 =  4\n"
     ]
    }
   ],
   "source": [
    "num_random2 = randint(3,5)\n",
    "print \"num_random2 = \", num_random2\n",
    "\n",
    "grby2 = grby1.groupby([\"Family\"]).head(num_random2)"
   ]
  },
  {
   "cell_type": "code",
   "execution_count": 13,
   "metadata": {},
   "outputs": [
    {
     "data": {
      "text/html": [
       "<div>\n",
       "<style>\n",
       "    .dataframe thead tr:only-child th {\n",
       "        text-align: right;\n",
       "    }\n",
       "\n",
       "    .dataframe thead th {\n",
       "        text-align: left;\n",
       "    }\n",
       "\n",
       "    .dataframe tbody tr th {\n",
       "        vertical-align: top;\n",
       "    }\n",
       "</style>\n",
       "<table border=\"1\" class=\"dataframe\">\n",
       "  <thead>\n",
       "    <tr style=\"text-align: right;\">\n",
       "      <th></th>\n",
       "      <th>count</th>\n",
       "      <th>mean</th>\n",
       "      <th>std</th>\n",
       "      <th>min</th>\n",
       "      <th>25%</th>\n",
       "      <th>50%</th>\n",
       "      <th>75%</th>\n",
       "      <th>max</th>\n",
       "    </tr>\n",
       "  </thead>\n",
       "  <tbody>\n",
       "    <tr>\n",
       "      <th>Acres</th>\n",
       "      <td>39.0</td>\n",
       "      <td>464514.333333</td>\n",
       "      <td>1.077129e+06</td>\n",
       "      <td>5550.00</td>\n",
       "      <td>32950.00</td>\n",
       "      <td>32950.00</td>\n",
       "      <td>360267.500</td>\n",
       "      <td>4740912.00</td>\n",
       "    </tr>\n",
       "    <tr>\n",
       "      <th>Latitude</th>\n",
       "      <td>39.0</td>\n",
       "      <td>37.873077</td>\n",
       "      <td>8.144692e+00</td>\n",
       "      <td>20.72</td>\n",
       "      <td>35.96</td>\n",
       "      <td>38.57</td>\n",
       "      <td>38.570</td>\n",
       "      <td>59.92</td>\n",
       "    </tr>\n",
       "    <tr>\n",
       "      <th>Longitude</th>\n",
       "      <td>39.0</td>\n",
       "      <td>-108.853590</td>\n",
       "      <td>1.893338e+01</td>\n",
       "      <td>-156.17</td>\n",
       "      <td>-115.90</td>\n",
       "      <td>-107.72</td>\n",
       "      <td>-106.615</td>\n",
       "      <td>-78.35</td>\n",
       "    </tr>\n",
       "  </tbody>\n",
       "</table>\n",
       "</div>"
      ],
      "text/plain": [
       "           count           mean           std      min       25%       50%  \\\n",
       "Acres       39.0  464514.333333  1.077129e+06  5550.00  32950.00  32950.00   \n",
       "Latitude    39.0      37.873077  8.144692e+00    20.72     35.96     38.57   \n",
       "Longitude   39.0    -108.853590  1.893338e+01  -156.17   -115.90   -107.72   \n",
       "\n",
       "                  75%         max  \n",
       "Acres      360267.500  4740912.00  \n",
       "Latitude       38.570       59.92  \n",
       "Longitude    -106.615      -78.35  "
      ]
     },
     "execution_count": 13,
     "metadata": {},
     "output_type": "execute_result"
    }
   ],
   "source": [
    "grby2.describe().T"
   ]
  },
  {
   "cell_type": "code",
   "execution_count": 14,
   "metadata": {},
   "outputs": [
    {
     "data": {
      "text/html": [
       "<div>\n",
       "<style>\n",
       "    .dataframe thead tr:only-child th {\n",
       "        text-align: right;\n",
       "    }\n",
       "\n",
       "    .dataframe thead th {\n",
       "        text-align: left;\n",
       "    }\n",
       "\n",
       "    .dataframe tbody tr th {\n",
       "        vertical-align: top;\n",
       "    }\n",
       "</style>\n",
       "<table border=\"1\" class=\"dataframe\">\n",
       "  <thead>\n",
       "    <tr style=\"text-align: right;\">\n",
       "      <th></th>\n",
       "      <th>Category</th>\n",
       "      <th>Order</th>\n",
       "      <th>Family</th>\n",
       "      <th>Common Names</th>\n",
       "      <th>Occurrence</th>\n",
       "      <th>Nativeness</th>\n",
       "      <th>Abundance</th>\n",
       "      <th>Park Name</th>\n",
       "      <th>GRank</th>\n",
       "      <th>SRank</th>\n",
       "      <th>State</th>\n",
       "      <th>Acres</th>\n",
       "      <th>Latitude</th>\n",
       "      <th>Longitude</th>\n",
       "    </tr>\n",
       "  </thead>\n",
       "  <tbody>\n",
       "    <tr>\n",
       "      <th>0</th>\n",
       "      <td>Mammal</td>\n",
       "      <td>Artiodactyla</td>\n",
       "      <td>Antilocapridae</td>\n",
       "      <td>Pronghorn</td>\n",
       "      <td>Unconfirmed</td>\n",
       "      <td>Native</td>\n",
       "      <td>Unknown</td>\n",
       "      <td>Black Canyon of the Gunnison National Park</td>\n",
       "      <td>G5</td>\n",
       "      <td>Secure</td>\n",
       "      <td>CO</td>\n",
       "      <td>32950</td>\n",
       "      <td>38.57</td>\n",
       "      <td>-107.72</td>\n",
       "    </tr>\n",
       "  </tbody>\n",
       "</table>\n",
       "</div>"
      ],
      "text/plain": [
       "  Category         Order          Family Common Names   Occurrence Nativeness  \\\n",
       "0   Mammal  Artiodactyla  Antilocapridae    Pronghorn  Unconfirmed     Native   \n",
       "\n",
       "  Abundance                                   Park Name GRank   SRank State  \\\n",
       "0   Unknown  Black Canyon of the Gunnison National Park    G5  Secure    CO   \n",
       "\n",
       "   Acres  Latitude  Longitude  \n",
       "0  32950     38.57    -107.72  "
      ]
     },
     "execution_count": 14,
     "metadata": {},
     "output_type": "execute_result"
    }
   ],
   "source": [
    "grby2.head(1)"
   ]
  },
  {
   "cell_type": "markdown",
   "metadata": {},
   "source": [
    "### Get the top 10-20 Common Names"
   ]
  },
  {
   "cell_type": "code",
   "execution_count": 15,
   "metadata": {},
   "outputs": [
    {
     "name": "stdout",
     "output_type": "stream",
     "text": [
      "num_random3 =  10\n"
     ]
    }
   ],
   "source": [
    "num_random3 = 10 # randint(5,15) \n",
    "print \"num_random3 = \", num_random3"
   ]
  },
  {
   "cell_type": "code",
   "execution_count": 16,
   "metadata": {
    "collapsed": true
   },
   "outputs": [],
   "source": [
    "grby3 = grby2.groupby([\"Common Names\"]).head(num_random3)"
   ]
  },
  {
   "cell_type": "code",
   "execution_count": 17,
   "metadata": {},
   "outputs": [
    {
     "data": {
      "text/html": [
       "<div>\n",
       "<style>\n",
       "    .dataframe thead tr:only-child th {\n",
       "        text-align: right;\n",
       "    }\n",
       "\n",
       "    .dataframe thead th {\n",
       "        text-align: left;\n",
       "    }\n",
       "\n",
       "    .dataframe tbody tr th {\n",
       "        vertical-align: top;\n",
       "    }\n",
       "</style>\n",
       "<table border=\"1\" class=\"dataframe\">\n",
       "  <thead>\n",
       "    <tr style=\"text-align: right;\">\n",
       "      <th></th>\n",
       "      <th>count</th>\n",
       "      <th>mean</th>\n",
       "      <th>std</th>\n",
       "      <th>min</th>\n",
       "      <th>25%</th>\n",
       "      <th>50%</th>\n",
       "      <th>75%</th>\n",
       "      <th>max</th>\n",
       "    </tr>\n",
       "  </thead>\n",
       "  <tbody>\n",
       "    <tr>\n",
       "      <th>Acres</th>\n",
       "      <td>39.0</td>\n",
       "      <td>464514.333333</td>\n",
       "      <td>1.077129e+06</td>\n",
       "      <td>5550.00</td>\n",
       "      <td>32950.00</td>\n",
       "      <td>32950.00</td>\n",
       "      <td>360267.500</td>\n",
       "      <td>4740912.00</td>\n",
       "    </tr>\n",
       "    <tr>\n",
       "      <th>Latitude</th>\n",
       "      <td>39.0</td>\n",
       "      <td>37.873077</td>\n",
       "      <td>8.144692e+00</td>\n",
       "      <td>20.72</td>\n",
       "      <td>35.96</td>\n",
       "      <td>38.57</td>\n",
       "      <td>38.570</td>\n",
       "      <td>59.92</td>\n",
       "    </tr>\n",
       "    <tr>\n",
       "      <th>Longitude</th>\n",
       "      <td>39.0</td>\n",
       "      <td>-108.853590</td>\n",
       "      <td>1.893338e+01</td>\n",
       "      <td>-156.17</td>\n",
       "      <td>-115.90</td>\n",
       "      <td>-107.72</td>\n",
       "      <td>-106.615</td>\n",
       "      <td>-78.35</td>\n",
       "    </tr>\n",
       "  </tbody>\n",
       "</table>\n",
       "</div>"
      ],
      "text/plain": [
       "           count           mean           std      min       25%       50%  \\\n",
       "Acres       39.0  464514.333333  1.077129e+06  5550.00  32950.00  32950.00   \n",
       "Latitude    39.0      37.873077  8.144692e+00    20.72     35.96     38.57   \n",
       "Longitude   39.0    -108.853590  1.893338e+01  -156.17   -115.90   -107.72   \n",
       "\n",
       "                  75%         max  \n",
       "Acres      360267.500  4740912.00  \n",
       "Latitude       38.570       59.92  \n",
       "Longitude    -106.615      -78.35  "
      ]
     },
     "execution_count": 17,
     "metadata": {},
     "output_type": "execute_result"
    }
   ],
   "source": [
    "grby3.describe().T"
   ]
  },
  {
   "cell_type": "markdown",
   "metadata": {},
   "source": [
    "### Eliminate the unknown values"
   ]
  },
  {
   "cell_type": "code",
   "execution_count": 18,
   "metadata": {},
   "outputs": [
    {
     "data": {
      "text/plain": [
       "Category         0\n",
       "Order            3\n",
       "Family           4\n",
       "Common Names     2\n",
       "Occurrence       6\n",
       "Nativeness       9\n",
       "Abundance       25\n",
       "Park Name        0\n",
       "GRank           11\n",
       "SRank            0\n",
       "State            0\n",
       "Acres            0\n",
       "Latitude         0\n",
       "Longitude        0\n",
       "dtype: int64"
      ]
     },
     "execution_count": 18,
     "metadata": {},
     "output_type": "execute_result"
    }
   ],
   "source": [
    "grby3.isin([\"Unknown\"]).sum()"
   ]
  },
  {
   "cell_type": "code",
   "execution_count": 19,
   "metadata": {
    "collapsed": true
   },
   "outputs": [],
   "source": [
    "orderdf = grby3[grby3.Order != \"Unknown\"] # | grby2.Family != \"Unknown\" | grby2['Common Names'] != \"Unknown\")]"
   ]
  },
  {
   "cell_type": "code",
   "execution_count": 20,
   "metadata": {
    "collapsed": true
   },
   "outputs": [],
   "source": [
    "familydf = orderdf[orderdf.Family != \"Unknown\"]"
   ]
  },
  {
   "cell_type": "code",
   "execution_count": 21,
   "metadata": {},
   "outputs": [
    {
     "name": "stderr",
     "output_type": "stream",
     "text": [
      "/Users/Mai/anaconda/lib/python2.7/site-packages/ipykernel_launcher.py:1: UserWarning: Boolean Series key will be reindexed to match DataFrame index.\n",
      "  \"\"\"Entry point for launching an IPython kernel.\n"
     ]
    }
   ],
   "source": [
    "commonnamesdf = familydf[grby2['Common Names'] != \"Unknown\"]"
   ]
  },
  {
   "cell_type": "code",
   "execution_count": 22,
   "metadata": {},
   "outputs": [
    {
     "data": {
      "text/plain": [
       "Category         0\n",
       "Order            0\n",
       "Family           0\n",
       "Common Names     0\n",
       "Occurrence       3\n",
       "Nativeness       6\n",
       "Abundance       22\n",
       "Park Name        0\n",
       "GRank            7\n",
       "SRank            0\n",
       "State            0\n",
       "Acres            0\n",
       "Latitude         0\n",
       "Longitude        0\n",
       "dtype: int64"
      ]
     },
     "execution_count": 22,
     "metadata": {},
     "output_type": "execute_result"
    }
   ],
   "source": [
    "commonnamesdf.isin([\"Unknown\"]).sum()"
   ]
  },
  {
   "cell_type": "markdown",
   "metadata": {},
   "source": [
    "### Now the data has no unknown in Category, Order, Family and Common names, use it.\n",
    "Please note we can clean the unknown in other columns but can be done later"
   ]
  },
  {
   "cell_type": "code",
   "execution_count": 23,
   "metadata": {
    "collapsed": true
   },
   "outputs": [],
   "source": [
    "final_df = commonnamesdf"
   ]
  },
  {
   "cell_type": "code",
   "execution_count": 24,
   "metadata": {},
   "outputs": [
    {
     "data": {
      "text/html": [
       "<div>\n",
       "<style>\n",
       "    .dataframe thead tr:only-child th {\n",
       "        text-align: right;\n",
       "    }\n",
       "\n",
       "    .dataframe thead th {\n",
       "        text-align: left;\n",
       "    }\n",
       "\n",
       "    .dataframe tbody tr th {\n",
       "        vertical-align: top;\n",
       "    }\n",
       "</style>\n",
       "<table border=\"1\" class=\"dataframe\">\n",
       "  <thead>\n",
       "    <tr style=\"text-align: right;\">\n",
       "      <th></th>\n",
       "      <th>count</th>\n",
       "      <th>mean</th>\n",
       "      <th>std</th>\n",
       "      <th>min</th>\n",
       "      <th>25%</th>\n",
       "      <th>50%</th>\n",
       "      <th>75%</th>\n",
       "      <th>max</th>\n",
       "    </tr>\n",
       "  </thead>\n",
       "  <tbody>\n",
       "    <tr>\n",
       "      <th>Acres</th>\n",
       "      <td>35.0</td>\n",
       "      <td>489341.714286</td>\n",
       "      <td>1.132920e+06</td>\n",
       "      <td>5550.00</td>\n",
       "      <td>32950.000</td>\n",
       "      <td>32950.00</td>\n",
       "      <td>360267.500</td>\n",
       "      <td>4740912.00</td>\n",
       "    </tr>\n",
       "    <tr>\n",
       "      <th>Latitude</th>\n",
       "      <td>35.0</td>\n",
       "      <td>37.018857</td>\n",
       "      <td>7.647794e+00</td>\n",
       "      <td>20.72</td>\n",
       "      <td>35.095</td>\n",
       "      <td>38.57</td>\n",
       "      <td>38.570</td>\n",
       "      <td>59.92</td>\n",
       "    </tr>\n",
       "    <tr>\n",
       "      <th>Longitude</th>\n",
       "      <td>35.0</td>\n",
       "      <td>-106.603143</td>\n",
       "      <td>1.823040e+01</td>\n",
       "      <td>-156.17</td>\n",
       "      <td>-107.720</td>\n",
       "      <td>-107.72</td>\n",
       "      <td>-104.975</td>\n",
       "      <td>-78.35</td>\n",
       "    </tr>\n",
       "  </tbody>\n",
       "</table>\n",
       "</div>"
      ],
      "text/plain": [
       "           count           mean           std      min        25%       50%  \\\n",
       "Acres       35.0  489341.714286  1.132920e+06  5550.00  32950.000  32950.00   \n",
       "Latitude    35.0      37.018857  7.647794e+00    20.72     35.095     38.57   \n",
       "Longitude   35.0    -106.603143  1.823040e+01  -156.17   -107.720   -107.72   \n",
       "\n",
       "                  75%         max  \n",
       "Acres      360267.500  4740912.00  \n",
       "Latitude       38.570       59.92  \n",
       "Longitude    -104.975      -78.35  "
      ]
     },
     "execution_count": 24,
     "metadata": {},
     "output_type": "execute_result"
    }
   ],
   "source": [
    "final_df.describe().T"
   ]
  },
  {
   "cell_type": "code",
   "execution_count": 25,
   "metadata": {},
   "outputs": [
    {
     "data": {
      "text/html": [
       "<div>\n",
       "<style>\n",
       "    .dataframe thead tr:only-child th {\n",
       "        text-align: right;\n",
       "    }\n",
       "\n",
       "    .dataframe thead th {\n",
       "        text-align: left;\n",
       "    }\n",
       "\n",
       "    .dataframe tbody tr th {\n",
       "        vertical-align: top;\n",
       "    }\n",
       "</style>\n",
       "<table border=\"1\" class=\"dataframe\">\n",
       "  <thead>\n",
       "    <tr style=\"text-align: right;\">\n",
       "      <th></th>\n",
       "      <th>Category</th>\n",
       "      <th>Order</th>\n",
       "      <th>Family</th>\n",
       "      <th>Common Names</th>\n",
       "      <th>Occurrence</th>\n",
       "      <th>Nativeness</th>\n",
       "      <th>Abundance</th>\n",
       "      <th>Park Name</th>\n",
       "      <th>GRank</th>\n",
       "      <th>SRank</th>\n",
       "      <th>State</th>\n",
       "      <th>Acres</th>\n",
       "      <th>Latitude</th>\n",
       "      <th>Longitude</th>\n",
       "    </tr>\n",
       "  </thead>\n",
       "  <tbody>\n",
       "    <tr>\n",
       "      <th>0</th>\n",
       "      <td>Mammal</td>\n",
       "      <td>Artiodactyla</td>\n",
       "      <td>Antilocapridae</td>\n",
       "      <td>Pronghorn</td>\n",
       "      <td>Unconfirmed</td>\n",
       "      <td>Native</td>\n",
       "      <td>Unknown</td>\n",
       "      <td>Black Canyon of the Gunnison National Park</td>\n",
       "      <td>G5</td>\n",
       "      <td>Secure</td>\n",
       "      <td>CO</td>\n",
       "      <td>32950</td>\n",
       "      <td>38.57</td>\n",
       "      <td>-107.72</td>\n",
       "    </tr>\n",
       "    <tr>\n",
       "      <th>1</th>\n",
       "      <td>Mammal</td>\n",
       "      <td>Artiodactyla</td>\n",
       "      <td>Bovidae</td>\n",
       "      <td>Bighorn Sheep</td>\n",
       "      <td>Present</td>\n",
       "      <td>Native</td>\n",
       "      <td>Uncommon</td>\n",
       "      <td>Black Canyon of the Gunnison National Park</td>\n",
       "      <td>G4</td>\n",
       "      <td>Secure</td>\n",
       "      <td>CO</td>\n",
       "      <td>32950</td>\n",
       "      <td>38.57</td>\n",
       "      <td>-107.72</td>\n",
       "    </tr>\n",
       "    <tr>\n",
       "      <th>2</th>\n",
       "      <td>Mammal</td>\n",
       "      <td>Artiodactyla</td>\n",
       "      <td>Cervidae</td>\n",
       "      <td>Elk</td>\n",
       "      <td>Present</td>\n",
       "      <td>Native</td>\n",
       "      <td>Unknown</td>\n",
       "      <td>Black Canyon of the Gunnison National Park</td>\n",
       "      <td>Unknown</td>\n",
       "      <td>Unranked</td>\n",
       "      <td>CO</td>\n",
       "      <td>32950</td>\n",
       "      <td>38.57</td>\n",
       "      <td>-107.72</td>\n",
       "    </tr>\n",
       "    <tr>\n",
       "      <th>4</th>\n",
       "      <td>Mammal</td>\n",
       "      <td>Carnivora</td>\n",
       "      <td>Canidae</td>\n",
       "      <td>Coyote</td>\n",
       "      <td>Present</td>\n",
       "      <td>Native</td>\n",
       "      <td>Uncommon</td>\n",
       "      <td>Black Canyon of the Gunnison National Park</td>\n",
       "      <td>G5</td>\n",
       "      <td>Secure</td>\n",
       "      <td>CO</td>\n",
       "      <td>32950</td>\n",
       "      <td>38.57</td>\n",
       "      <td>-107.72</td>\n",
       "    </tr>\n",
       "    <tr>\n",
       "      <th>5</th>\n",
       "      <td>Mammal</td>\n",
       "      <td>Carnivora</td>\n",
       "      <td>Canidae</td>\n",
       "      <td>Common Gray Fox</td>\n",
       "      <td>Present</td>\n",
       "      <td>Native</td>\n",
       "      <td>Rare</td>\n",
       "      <td>Black Canyon of the Gunnison National Park</td>\n",
       "      <td>G5</td>\n",
       "      <td>Secure</td>\n",
       "      <td>CO</td>\n",
       "      <td>32950</td>\n",
       "      <td>38.57</td>\n",
       "      <td>-107.72</td>\n",
       "    </tr>\n",
       "  </tbody>\n",
       "</table>\n",
       "</div>"
      ],
      "text/plain": [
       "  Category         Order          Family     Common Names   Occurrence  \\\n",
       "0   Mammal  Artiodactyla  Antilocapridae        Pronghorn  Unconfirmed   \n",
       "1   Mammal  Artiodactyla         Bovidae    Bighorn Sheep      Present   \n",
       "2   Mammal  Artiodactyla        Cervidae              Elk      Present   \n",
       "4   Mammal     Carnivora         Canidae           Coyote      Present   \n",
       "5   Mammal     Carnivora         Canidae  Common Gray Fox      Present   \n",
       "\n",
       "  Nativeness Abundance                                   Park Name    GRank  \\\n",
       "0     Native   Unknown  Black Canyon of the Gunnison National Park       G5   \n",
       "1     Native  Uncommon  Black Canyon of the Gunnison National Park       G4   \n",
       "2     Native   Unknown  Black Canyon of the Gunnison National Park  Unknown   \n",
       "4     Native  Uncommon  Black Canyon of the Gunnison National Park       G5   \n",
       "5     Native      Rare  Black Canyon of the Gunnison National Park       G5   \n",
       "\n",
       "      SRank State  Acres  Latitude  Longitude  \n",
       "0    Secure    CO  32950     38.57    -107.72  \n",
       "1    Secure    CO  32950     38.57    -107.72  \n",
       "2  Unranked    CO  32950     38.57    -107.72  \n",
       "4    Secure    CO  32950     38.57    -107.72  \n",
       "5    Secure    CO  32950     38.57    -107.72  "
      ]
     },
     "execution_count": 25,
     "metadata": {},
     "output_type": "execute_result"
    }
   ],
   "source": [
    "final_df.head()"
   ]
  },
  {
   "cell_type": "code",
   "execution_count": 26,
   "metadata": {
    "collapsed": true
   },
   "outputs": [],
   "source": [
    "final_df = final_df.reset_index(drop=True)"
   ]
  },
  {
   "cell_type": "markdown",
   "metadata": {},
   "source": [
    "## Part I: Calculate Nodes"
   ]
  },
  {
   "cell_type": "code",
   "execution_count": 27,
   "metadata": {
    "collapsed": true
   },
   "outputs": [],
   "source": [
    "category_weight = 200\n",
    "order_weight = 100\n",
    "family_weight = 50\n",
    "commonname_weight = 20\n",
    "\n",
    "new_columns=[\"Node\", \"Category\", \"Order\", \"Family\", \"Common Names\", \"Weight\"]"
   ]
  },
  {
   "cell_type": "code",
   "execution_count": 28,
   "metadata": {},
   "outputs": [
    {
     "name": "stdout",
     "output_type": "stream",
     "text": [
      "Category len =  1\n",
      "nodes_df shape =  (1, 6)\n"
     ]
    }
   ],
   "source": [
    "cat_len = len(final_df.Category.unique())\n",
    "print \"Category len = \", cat_len\n",
    "\n",
    "#Create an array for \"Category-1, Order-2, Family-3, Common Names-4, and Weight\" columns\n",
    "#columns_array = np.zeros((cat_len, 5))\n",
    "nodes_df = pd.DataFrame(0, index=np.arange(cat_len), columns=new_columns)\n",
    "\n",
    "nodes_df[\"Node\"] = final_df.Category.unique()\n",
    "nodes_df[\"Category\"] = final_df.Category.unique()\n",
    "nodes_df[\"Weight\"] = category_weight\n",
    "print \"nodes_df shape = \", nodes_df.shape"
   ]
  },
  {
   "cell_type": "code",
   "execution_count": 29,
   "metadata": {},
   "outputs": [
    {
     "name": "stdout",
     "output_type": "stream",
     "text": [
      "Order len =  12\n",
      "nodes_df shape =  (13, 6)\n"
     ]
    }
   ],
   "source": [
    "order_len = len(final_df.Order.unique())\n",
    "print \"Order len = \", order_len\n",
    "\n",
    "#Create an array for \"Category-1, Order-2, Family-3, Common Names-4, and Weight\" columns\n",
    "temp_df = pd.DataFrame(0, index=np.arange(order_len), columns=new_columns)\n",
    "temp_df[\"Node\"] = final_df.Order.unique()\n",
    "temp_df[\"Order\"] = final_df.Order.unique()\n",
    "temp_df[\"Weight\"] = order_weight\n",
    "nodes_df = nodes_df.append(temp_df)\n",
    "print \"nodes_df shape = \", nodes_df.shape"
   ]
  },
  {
   "cell_type": "code",
   "execution_count": 30,
   "metadata": {},
   "outputs": [
    {
     "name": "stdout",
     "output_type": "stream",
     "text": [
      "Family len =  16\n",
      "nodes_df shape =  (29, 6)\n"
     ]
    }
   ],
   "source": [
    "family_len = len(final_df.Family.unique())\n",
    "print \"Family len = \", family_len\n",
    "\n",
    "#Create an array for \"Category-1, Order-2, Family-3, Common Names-4, and Weight\" columns\n",
    "temp_df = pd.DataFrame(0, index=np.arange(family_len), columns=new_columns)\n",
    "temp_df[\"Node\"] = final_df.Family.unique()\n",
    "temp_df[\"Family\"] = final_df.Family.unique()\n",
    "temp_df[\"Weight\"] = family_weight\n",
    "nodes_df = nodes_df.append(temp_df)\n",
    "print \"nodes_df shape = \", nodes_df.shape"
   ]
  },
  {
   "cell_type": "code",
   "execution_count": 31,
   "metadata": {},
   "outputs": [
    {
     "name": "stdout",
     "output_type": "stream",
     "text": [
      "Commonname len =  32\n",
      "nodes_df shape =  (61, 6)\n"
     ]
    }
   ],
   "source": [
    "commonname_len = len(final_df[\"Common Names\"].unique())\n",
    "print \"Commonname len = \", commonname_len\n",
    "\n",
    "#Create an array for \"Category-1, Order-2, Family-3, Common Names-4, and Weight\" columns\n",
    "temp_df = pd.DataFrame(0, index=np.arange(commonname_len), columns=new_columns)\n",
    "temp_df[\"Node\"] = final_df[\"Common Names\"].unique()\n",
    "temp_df[\"Common Names\"] = final_df[\"Common Names\"].unique()\n",
    "temp_df[\"Weight\"] = commonname_weight\n",
    "nodes_df = nodes_df.append(temp_df)\n",
    "print \"nodes_df shape = \", nodes_df.shape"
   ]
  },
  {
   "cell_type": "code",
   "execution_count": 32,
   "metadata": {},
   "outputs": [
    {
     "data": {
      "text/html": [
       "<div>\n",
       "<style>\n",
       "    .dataframe thead tr:only-child th {\n",
       "        text-align: right;\n",
       "    }\n",
       "\n",
       "    .dataframe thead th {\n",
       "        text-align: left;\n",
       "    }\n",
       "\n",
       "    .dataframe tbody tr th {\n",
       "        vertical-align: top;\n",
       "    }\n",
       "</style>\n",
       "<table border=\"1\" class=\"dataframe\">\n",
       "  <thead>\n",
       "    <tr style=\"text-align: right;\">\n",
       "      <th></th>\n",
       "      <th>Node</th>\n",
       "      <th>Category</th>\n",
       "      <th>Order</th>\n",
       "      <th>Family</th>\n",
       "      <th>Common Names</th>\n",
       "      <th>Weight</th>\n",
       "    </tr>\n",
       "  </thead>\n",
       "  <tbody>\n",
       "    <tr>\n",
       "      <th>0</th>\n",
       "      <td>Mammal</td>\n",
       "      <td>Mammal</td>\n",
       "      <td>0</td>\n",
       "      <td>0</td>\n",
       "      <td>0</td>\n",
       "      <td>200</td>\n",
       "    </tr>\n",
       "    <tr>\n",
       "      <th>0</th>\n",
       "      <td>Artiodactyla</td>\n",
       "      <td>0</td>\n",
       "      <td>Artiodactyla</td>\n",
       "      <td>0</td>\n",
       "      <td>0</td>\n",
       "      <td>100</td>\n",
       "    </tr>\n",
       "    <tr>\n",
       "      <th>1</th>\n",
       "      <td>Carnivora</td>\n",
       "      <td>0</td>\n",
       "      <td>Carnivora</td>\n",
       "      <td>0</td>\n",
       "      <td>0</td>\n",
       "      <td>100</td>\n",
       "    </tr>\n",
       "    <tr>\n",
       "      <th>2</th>\n",
       "      <td>Chiroptera</td>\n",
       "      <td>0</td>\n",
       "      <td>Chiroptera</td>\n",
       "      <td>0</td>\n",
       "      <td>0</td>\n",
       "      <td>100</td>\n",
       "    </tr>\n",
       "    <tr>\n",
       "      <th>3</th>\n",
       "      <td>Lagomorpha</td>\n",
       "      <td>0</td>\n",
       "      <td>Lagomorpha</td>\n",
       "      <td>0</td>\n",
       "      <td>0</td>\n",
       "      <td>100</td>\n",
       "    </tr>\n",
       "  </tbody>\n",
       "</table>\n",
       "</div>"
      ],
      "text/plain": [
       "           Node Category         Order Family Common Names  Weight\n",
       "0        Mammal   Mammal             0      0            0     200\n",
       "0  Artiodactyla        0  Artiodactyla      0            0     100\n",
       "1     Carnivora        0     Carnivora      0            0     100\n",
       "2    Chiroptera        0    Chiroptera      0            0     100\n",
       "3    Lagomorpha        0    Lagomorpha      0            0     100"
      ]
     },
     "execution_count": 32,
     "metadata": {},
     "output_type": "execute_result"
    }
   ],
   "source": [
    "nodes_df.head()"
   ]
  },
  {
   "cell_type": "code",
   "execution_count": 33,
   "metadata": {
    "collapsed": true
   },
   "outputs": [],
   "source": [
    "nodes_df.to_csv('./data/mammal_nodes.csv', index=False)"
   ]
  },
  {
   "cell_type": "markdown",
   "metadata": {},
   "source": [
    "## Part II: Calculate Edges "
   ]
  },
  {
   "cell_type": "code",
   "execution_count": 34,
   "metadata": {
    "collapsed": true
   },
   "outputs": [],
   "source": [
    "weight_category = 200\n",
    "weight_order = 100\n",
    "weight_family = 50\n",
    "#weight_commonname = 20"
   ]
  },
  {
   "cell_type": "code",
   "execution_count": 35,
   "metadata": {
    "collapsed": true
   },
   "outputs": [],
   "source": [
    "edges = pd.DataFrame(columns=[\"Source\", \"Target\", \"Weight\"])\n",
    "\n",
    "#for col in edge_columns:\n",
    "for i, row in final_df.iterrows():\n",
    "    temp = pd.DataFrame(columns=[\"Source\", \"Target\", \"Weight\"])\n",
    "    s = pd.Series([0,0,0], index=[\"Source\", \"Target\", \"Weight\"])\n",
    "    temp = temp.append(s, ignore_index=True)\n",
    "    temp[\"Source\"] = row.Category\n",
    "    temp[\"Target\"] = row.Order\n",
    "    temp[\"Weight\"] = weight_category\n",
    "    edges = edges.append(temp)\n",
    "    \n",
    "    temp = pd.DataFrame(columns=[\"Source\", \"Target\", \"Weight\"])\n",
    "    s = pd.Series([0,0,0], index=[\"Source\", \"Target\", \"Weight\"])\n",
    "    temp = temp.append(s, ignore_index=True)\n",
    "    temp[\"Source\"] = row.Order\n",
    "    temp[\"Target\"] = row.Family\n",
    "    temp[\"Weight\"] = weight_order\n",
    "    edges = edges.append(temp)\n",
    "    \n",
    "    temp = pd.DataFrame(columns=[\"Source\", \"Target\", \"Weight\"])\n",
    "    s = pd.Series([0,0,0], index=[\"Source\", \"Target\", \"Weight\"])\n",
    "    temp = temp.append(s, ignore_index=True)\n",
    "    temp[\"Source\"] = row.Family\n",
    "    temp[\"Target\"] = row[\"Common Names\"]\n",
    "    temp[\"Weight\"] = weight_family\n",
    "    edges = edges.append(temp)"
   ]
  },
  {
   "cell_type": "code",
   "execution_count": 36,
   "metadata": {},
   "outputs": [
    {
     "data": {
      "text/html": [
       "<div>\n",
       "<style>\n",
       "    .dataframe thead tr:only-child th {\n",
       "        text-align: right;\n",
       "    }\n",
       "\n",
       "    .dataframe thead th {\n",
       "        text-align: left;\n",
       "    }\n",
       "\n",
       "    .dataframe tbody tr th {\n",
       "        vertical-align: top;\n",
       "    }\n",
       "</style>\n",
       "<table border=\"1\" class=\"dataframe\">\n",
       "  <thead>\n",
       "    <tr style=\"text-align: right;\">\n",
       "      <th></th>\n",
       "      <th>count</th>\n",
       "      <th>unique</th>\n",
       "      <th>top</th>\n",
       "      <th>freq</th>\n",
       "    </tr>\n",
       "  </thead>\n",
       "  <tbody>\n",
       "    <tr>\n",
       "      <th>Source</th>\n",
       "      <td>105</td>\n",
       "      <td>29</td>\n",
       "      <td>Mammal</td>\n",
       "      <td>35</td>\n",
       "    </tr>\n",
       "    <tr>\n",
       "      <th>Target</th>\n",
       "      <td>105</td>\n",
       "      <td>60</td>\n",
       "      <td>Hominidae</td>\n",
       "      <td>3</td>\n",
       "    </tr>\n",
       "    <tr>\n",
       "      <th>Weight</th>\n",
       "      <td>105</td>\n",
       "      <td>3</td>\n",
       "      <td>200</td>\n",
       "      <td>35</td>\n",
       "    </tr>\n",
       "  </tbody>\n",
       "</table>\n",
       "</div>"
      ],
      "text/plain": [
       "       count unique        top freq\n",
       "Source   105     29     Mammal   35\n",
       "Target   105     60  Hominidae    3\n",
       "Weight   105      3        200   35"
      ]
     },
     "execution_count": 36,
     "metadata": {},
     "output_type": "execute_result"
    }
   ],
   "source": [
    "edges.describe().T"
   ]
  },
  {
   "cell_type": "code",
   "execution_count": 37,
   "metadata": {},
   "outputs": [
    {
     "data": {
      "text/html": [
       "<div>\n",
       "<style>\n",
       "    .dataframe thead tr:only-child th {\n",
       "        text-align: right;\n",
       "    }\n",
       "\n",
       "    .dataframe thead th {\n",
       "        text-align: left;\n",
       "    }\n",
       "\n",
       "    .dataframe tbody tr th {\n",
       "        vertical-align: top;\n",
       "    }\n",
       "</style>\n",
       "<table border=\"1\" class=\"dataframe\">\n",
       "  <thead>\n",
       "    <tr style=\"text-align: right;\">\n",
       "      <th></th>\n",
       "      <th>Source</th>\n",
       "      <th>Target</th>\n",
       "      <th>Weight</th>\n",
       "    </tr>\n",
       "  </thead>\n",
       "  <tbody>\n",
       "    <tr>\n",
       "      <th>0</th>\n",
       "      <td>Mammal</td>\n",
       "      <td>Artiodactyla</td>\n",
       "      <td>200</td>\n",
       "    </tr>\n",
       "    <tr>\n",
       "      <th>0</th>\n",
       "      <td>Artiodactyla</td>\n",
       "      <td>Antilocapridae</td>\n",
       "      <td>100</td>\n",
       "    </tr>\n",
       "    <tr>\n",
       "      <th>0</th>\n",
       "      <td>Antilocapridae</td>\n",
       "      <td>Pronghorn</td>\n",
       "      <td>50</td>\n",
       "    </tr>\n",
       "    <tr>\n",
       "      <th>0</th>\n",
       "      <td>Mammal</td>\n",
       "      <td>Artiodactyla</td>\n",
       "      <td>200</td>\n",
       "    </tr>\n",
       "    <tr>\n",
       "      <th>0</th>\n",
       "      <td>Artiodactyla</td>\n",
       "      <td>Bovidae</td>\n",
       "      <td>100</td>\n",
       "    </tr>\n",
       "  </tbody>\n",
       "</table>\n",
       "</div>"
      ],
      "text/plain": [
       "           Source          Target Weight\n",
       "0          Mammal    Artiodactyla    200\n",
       "0    Artiodactyla  Antilocapridae    100\n",
       "0  Antilocapridae       Pronghorn     50\n",
       "0          Mammal    Artiodactyla    200\n",
       "0    Artiodactyla         Bovidae    100"
      ]
     },
     "execution_count": 37,
     "metadata": {},
     "output_type": "execute_result"
    }
   ],
   "source": [
    "edges.head()"
   ]
  },
  {
   "cell_type": "code",
   "execution_count": 38,
   "metadata": {
    "collapsed": true
   },
   "outputs": [],
   "source": [
    "edges.to_csv('./data/mammal_edges.csv', index=False)"
   ]
  },
  {
   "cell_type": "markdown",
   "metadata": {},
   "source": [
    "## Number of nodes and edges"
   ]
  },
  {
   "cell_type": "code",
   "execution_count": 39,
   "metadata": {},
   "outputs": [
    {
     "name": "stdout",
     "output_type": "stream",
     "text": [
      "num_randoms =  3 4 10\n",
      "Number of nodes =  61\n",
      "Number of edges =  105\n"
     ]
    }
   ],
   "source": [
    "print \"num_randoms = \", num_random1, num_random2, num_random3\n",
    "print \"Number of nodes = \", len(nodes_df)\n",
    "print \"Number of edges = \", len(edges)"
   ]
  },
  {
   "cell_type": "code",
   "execution_count": null,
   "metadata": {
    "collapsed": true
   },
   "outputs": [],
   "source": []
  }
 ],
 "metadata": {
  "kernelspec": {
   "display_name": "Python 2",
   "language": "python",
   "name": "python2"
  },
  "language_info": {
   "codemirror_mode": {
    "name": "ipython",
    "version": 2
   },
   "file_extension": ".py",
   "mimetype": "text/x-python",
   "name": "python",
   "nbconvert_exporter": "python",
   "pygments_lexer": "ipython2",
   "version": "2.7.13"
  }
 },
 "nbformat": 4,
 "nbformat_minor": 2
}
